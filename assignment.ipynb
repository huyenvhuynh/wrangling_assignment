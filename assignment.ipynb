{
 "cells": [
  {
   "cell_type": "markdown",
   "id": "13ad028b-72b7-43ed-aa78-96fd4e518040",
   "metadata": {
    "id": "13ad028b-72b7-43ed-aa78-96fd4e518040"
   },
   "source": [
    "# Assignment: Data Wrangling\n",
    "### `! git clone https://github.com/ds3001f25/wrangling_assignment.git`\n",
    "### Do Q1 and Q2\n",
    "### Reading material: `tidy_data.pdf`"
   ]
  },
  {
   "cell_type": "code",
   "execution_count": 36,
   "id": "993e47be",
   "metadata": {},
   "outputs": [
    {
     "name": "stdout",
     "output_type": "stream",
     "text": [
      "Defaulting to user installation because normal site-packages is not writeable\n",
      "Requirement already satisfied: pandas in c:\\users\\huyen\\appdata\\roaming\\python\\python310\\site-packages (2.3.2)\n",
      "Requirement already satisfied: numpy>=1.22.4 in c:\\users\\huyen\\appdata\\roaming\\python\\python310\\site-packages (from pandas) (2.2.6)\n",
      "Requirement already satisfied: python-dateutil>=2.8.2 in c:\\users\\huyen\\appdata\\roaming\\python\\python310\\site-packages (from pandas) (2.9.0.post0)\n",
      "Requirement already satisfied: tzdata>=2022.7 in c:\\users\\huyen\\appdata\\roaming\\python\\python310\\site-packages (from pandas) (2024.1)\n",
      "Requirement already satisfied: pytz>=2020.1 in c:\\users\\huyen\\appdata\\roaming\\python\\python310\\site-packages (from pandas) (2025.2)\n",
      "Requirement already satisfied: six>=1.5 in c:\\users\\huyen\\appdata\\roaming\\python\\python310\\site-packages (from python-dateutil>=2.8.2->pandas) (1.16.0)\n",
      "Note: you may need to restart the kernel to use updated packages.\n"
     ]
    },
    {
     "name": "stderr",
     "output_type": "stream",
     "text": [
      "\n",
      "[notice] A new release of pip available: 22.2.1 -> 25.2\n",
      "[notice] To update, run: python.exe -m pip install --upgrade pip\n"
     ]
    },
    {
     "name": "stdout",
     "output_type": "stream",
     "text": [
      "Defaulting to user installation because normal site-packages is not writeable\n",
      "Requirement already satisfied: fastparquet in c:\\users\\huyen\\appdata\\roaming\\python\\python310\\site-packages (2024.11.0)\n",
      "Requirement already satisfied: pandas>=1.5.0 in c:\\users\\huyen\\appdata\\roaming\\python\\python310\\site-packages (from fastparquet) (2.3.2)\n",
      "Requirement already satisfied: fsspec in c:\\users\\huyen\\appdata\\roaming\\python\\python310\\site-packages (from fastparquet) (2025.7.0)\n",
      "Requirement already satisfied: cramjam>=2.3 in c:\\users\\huyen\\appdata\\roaming\\python\\python310\\site-packages (from fastparquet) (2.11.0)\n",
      "Requirement already satisfied: numpy in c:\\users\\huyen\\appdata\\roaming\\python\\python310\\site-packages (from fastparquet) (2.2.6)\n",
      "Requirement already satisfied: packaging in c:\\users\\huyen\\appdata\\roaming\\python\\python310\\site-packages (from fastparquet) (25.0)\n",
      "Requirement already satisfied: tzdata>=2022.7 in c:\\users\\huyen\\appdata\\roaming\\python\\python310\\site-packages (from pandas>=1.5.0->fastparquet) (2024.1)\n",
      "Requirement already satisfied: python-dateutil>=2.8.2 in c:\\users\\huyen\\appdata\\roaming\\python\\python310\\site-packages (from pandas>=1.5.0->fastparquet) (2.9.0.post0)\n",
      "Requirement already satisfied: pytz>=2020.1 in c:\\users\\huyen\\appdata\\roaming\\python\\python310\\site-packages (from pandas>=1.5.0->fastparquet) (2025.2)\n",
      "Requirement already satisfied: six>=1.5 in c:\\users\\huyen\\appdata\\roaming\\python\\python310\\site-packages (from python-dateutil>=2.8.2->pandas>=1.5.0->fastparquet) (1.16.0)\n",
      "Note: you may need to restart the kernel to use updated packages.\n"
     ]
    },
    {
     "name": "stderr",
     "output_type": "stream",
     "text": [
      "\n",
      "[notice] A new release of pip available: 22.2.1 -> 25.2\n",
      "[notice] To update, run: python.exe -m pip install --upgrade pip\n"
     ]
    },
    {
     "name": "stdout",
     "output_type": "stream",
     "text": [
      "Defaulting to user installation because normal site-packages is not writeable\n",
      "Requirement already satisfied: pandas in c:\\users\\huyen\\appdata\\roaming\\python\\python310\\site-packages (2.3.2)\n",
      "Requirement already satisfied: xlrd in c:\\users\\huyen\\appdata\\roaming\\python\\python310\\site-packages (2.0.2)\n",
      "Requirement already satisfied: python-dateutil>=2.8.2 in c:\\users\\huyen\\appdata\\roaming\\python\\python310\\site-packages (from pandas) (2.9.0.post0)\n",
      "Requirement already satisfied: numpy>=1.22.4 in c:\\users\\huyen\\appdata\\roaming\\python\\python310\\site-packages (from pandas) (2.2.6)\n",
      "Requirement already satisfied: tzdata>=2022.7 in c:\\users\\huyen\\appdata\\roaming\\python\\python310\\site-packages (from pandas) (2024.1)\n",
      "Requirement already satisfied: pytz>=2020.1 in c:\\users\\huyen\\appdata\\roaming\\python\\python310\\site-packages (from pandas) (2025.2)\n",
      "Requirement already satisfied: six>=1.5 in c:\\users\\huyen\\appdata\\roaming\\python\\python310\\site-packages (from python-dateutil>=2.8.2->pandas) (1.16.0)\n",
      "Note: you may need to restart the kernel to use updated packages.\n"
     ]
    },
    {
     "name": "stderr",
     "output_type": "stream",
     "text": [
      "\n",
      "[notice] A new release of pip available: 22.2.1 -> 25.2\n",
      "[notice] To update, run: python.exe -m pip install --upgrade pip\n"
     ]
    },
    {
     "name": "stdout",
     "output_type": "stream",
     "text": [
      "Defaulting to user installation because normal site-packages is not writeable\n",
      "Collecting matplotlib\n",
      "  Downloading matplotlib-3.10.5-cp310-cp310-win_amd64.whl (8.1 MB)\n",
      "     ---------------------------------------- 8.1/8.1 MB 4.0 MB/s eta 0:00:00\n",
      "Collecting pyparsing>=2.3.1\n",
      "  Downloading pyparsing-3.2.3-py3-none-any.whl (111 kB)\n",
      "     -------------------------------------- 111.1/111.1 kB 2.1 MB/s eta 0:00:00\n",
      "Requirement already satisfied: packaging>=20.0 in c:\\users\\huyen\\appdata\\roaming\\python\\python310\\site-packages (from matplotlib) (25.0)\n",
      "Collecting contourpy>=1.0.1\n",
      "  Downloading contourpy-1.3.2-cp310-cp310-win_amd64.whl (221 kB)\n",
      "     -------------------------------------- 221.2/221.2 kB 3.3 MB/s eta 0:00:00\n",
      "Collecting pillow>=8\n",
      "  Downloading pillow-11.3.0-cp310-cp310-win_amd64.whl (7.0 MB)\n",
      "     ---------------------------------------- 7.0/7.0 MB 3.0 MB/s eta 0:00:00\n",
      "Requirement already satisfied: python-dateutil>=2.7 in c:\\users\\huyen\\appdata\\roaming\\python\\python310\\site-packages (from matplotlib) (2.9.0.post0)\n",
      "Collecting kiwisolver>=1.3.1\n",
      "  Downloading kiwisolver-1.4.9-cp310-cp310-win_amd64.whl (73 kB)\n",
      "     ---------------------------------------- 73.7/73.7 kB 4.2 MB/s eta 0:00:00\n",
      "Collecting cycler>=0.10\n",
      "  Using cached cycler-0.12.1-py3-none-any.whl (8.3 kB)\n",
      "Collecting fonttools>=4.22.0\n",
      "  Downloading fonttools-4.59.2-cp310-cp310-win_amd64.whl (2.3 MB)\n",
      "     ---------------------------------------- 2.3/2.3 MB 7.2 MB/s eta 0:00:00\n",
      "Requirement already satisfied: numpy>=1.23 in c:\\users\\huyen\\appdata\\roaming\\python\\python310\\site-packages (from matplotlib) (2.2.6)\n",
      "Requirement already satisfied: six>=1.5 in c:\\users\\huyen\\appdata\\roaming\\python\\python310\\site-packages (from python-dateutil>=2.7->matplotlib) (1.16.0)\n",
      "Installing collected packages: pyparsing, pillow, kiwisolver, fonttools, cycler, contourpy, matplotlib\n",
      "Successfully installed contourpy-1.3.2 cycler-0.12.1 fonttools-4.59.2 kiwisolver-1.4.9 matplotlib-3.10.5 pillow-11.3.0 pyparsing-3.2.3\n",
      "Note: you may need to restart the kernel to use updated packages.\n"
     ]
    },
    {
     "name": "stderr",
     "output_type": "stream",
     "text": [
      "\n",
      "[notice] A new release of pip available: 22.2.1 -> 25.2\n",
      "[notice] To update, run: python.exe -m pip install --upgrade pip\n"
     ]
    }
   ],
   "source": [
    "%pip install pandas\n",
    "%pip install fastparquet\n",
    "%pip install pandas xlrd\n",
    "%pip install matplotlib"
   ]
  },
  {
   "cell_type": "markdown",
   "id": "da879ea7-8aac-48a3-b6c2-daea56d2e072",
   "metadata": {
    "id": "da879ea7-8aac-48a3-b6c2-daea56d2e072"
   },
   "source": [
    "**Q1.** This question provides some practice cleaning variables which have common problems.\n",
    "1. Numeric variable: For `./data/airbnb_hw.csv`, clean the `Price` variable as well as you can, and explain the choices you make. How many missing values do you end up with? (Hint: What happens to the formatting when a price goes over 999 dollars, say from 675 to 1,112?)\n",
    "2. Categorical variable: For the Minnesota police use of for data, `./data/mn_police_use_of_force.csv`, clean the `subject_injury` variable, handling the NA's; this gives a value `Yes` when a person was injured by police, and `No` when no injury occurred. What proportion of the values are missing? Is this a concern? Cross-tabulate your cleaned `subject_injury` variable with the `force_type` variable. Are there any patterns regarding when the data are missing? \n",
    "3. Dummy variable: For the pretrial data covered in the lecture `./data/justice_data.parquet`, clean the `WhetherDefendantWasReleasedPretrial` variable as well as you can, and, in particular, replace missing values with `np.nan`.\n",
    "4. Missing values, not at random: For the pretrial data covered in the lecture, clean the `ImposedSentenceAllChargeInContactEvent` variable as well as you can, and explain the choices you make. (Hint: Look at the `SentenceTypeAllChargesAtConvictionInContactEvent` variable.)"
   ]
  },
  {
   "cell_type": "code",
   "execution_count": null,
   "id": "71d33ba9",
   "metadata": {},
   "outputs": [
    {
     "name": "stdout",
     "output_type": "stream",
     "text": [
      "Missing values after cleaning: 0\n"
     ]
    }
   ],
   "source": [
    "# Number 1\n",
    "\n",
    "import pandas as pd\n",
    "\n",
    "df = pd.read_csv(\"./data/airbnb_hw.csv\")\n",
    "\n",
    "df['Price'].head(10)\n",
    "\n",
    "df['Price_clean'] = (\n",
    "    df['Price']\n",
    "    .astype(str)                      # ensure string\n",
    "    .str.replace(\"$\", \"\", regex=False)  # remove $\n",
    "    .str.replace(\",\", \"\", regex=False)  # remove commas\n",
    "    .str.strip()                        # remove spaces\n",
    ")\n",
    "\n",
    "df['Price_clean'] = pd.to_numeric(df['Price_clean'], errors='coerce')\n",
    "\n",
    "print(f\"Missing values after cleaning: {df['Price_clean'].isna().sum()}\")\n"
   ]
  },
  {
   "cell_type": "code",
   "execution_count": 19,
   "id": "459fcc50",
   "metadata": {},
   "outputs": [
    {
     "name": "stdout",
     "output_type": "stream",
     "text": [
      "Proportion missing: 76.19%\n",
      "force_type            Baton  Bodily Force  Chemical Irritant  Firearm  \\\n",
      "subject_injury_clean                                                    \n",
      "Nan                       2          7051               1421        0   \n",
      "No                        0          1093                131        2   \n",
      "Yes                       2          1286                 41        0   \n",
      "\n",
      "force_type            Gun Point Display  Improvised Weapon  Less Lethal  \\\n",
      "subject_injury_clean                                                      \n",
      "Nan                                  27                 74           87   \n",
      "No                                   33                 34            0   \n",
      "Yes                                  44                 40            0   \n",
      "\n",
      "force_type            Less Lethal Projectile  Maximal Restraint Technique  \\\n",
      "subject_injury_clean                                                        \n",
      "Nan                                        0                          170   \n",
      "No                                         1                            0   \n",
      "Yes                                        2                            0   \n",
      "\n",
      "force_type            Police K9 Bite  Taser  \n",
      "subject_injury_clean                         \n",
      "Nan                               31    985  \n",
      "No                                 2    150  \n",
      "Yes                               44    172  \n"
     ]
    }
   ],
   "source": [
    "# Number 2\n",
    "\n",
    "df2 = pd.read_csv(\"./data/mn_police_use_of_force.csv\")\n",
    "\n",
    "df2['subject_injury_clean'] = (\n",
    "    df2['subject_injury']\n",
    "    .str.strip()\n",
    "    .str.capitalize()\n",
    "    .replace(\n",
    "        {'Nan': pd.NA, '': pd.NA}\n",
    "    )\n",
    ")\n",
    "\n",
    "missing_count_mean = df2['subject_injury_clean'].isna().mean()\n",
    "print(f\"Proportion missing: {missing_count_mean:.2%}\")\n",
    "\n",
    "# Cross-tabulate with force_type\n",
    "ct = pd.crosstab(df['subject_injury_clean'], df['force_type'], dropna=False)\n",
    "print(ct)\n",
    "\n",
    "\n"
   ]
  },
  {
   "cell_type": "markdown",
   "id": "dad3a3da",
   "metadata": {},
   "source": [
    "Number 2\n",
    "\n",
    "76.19% of the values are missing. Yes that is a concern. For patterns, bodily force seems to be the highest category of data missing. Chemical irritant and taser seem to be a close second."
   ]
  },
  {
   "cell_type": "code",
   "execution_count": null,
   "id": "0bf838e3",
   "metadata": {},
   "outputs": [],
   "source": [
    "# Number 3\n",
    "\n",
    "import numpy as np\n",
    "\n",
    "justice = pd.read_parquet(\"./data/justice_data.parquet\", engine=\"fastparquet\")\n",
    "\n",
    "justice['released_clean'] = (\n",
    "    justice['WhetherDefendantWasReleasedPretrial']\n",
    "    .astype(str)\n",
    "    .str.strip()\n",
    "    .str.lower()\n",
    ")\n",
    "\n",
    "# Map to Yes/No\n",
    "justice['released_clean'] = justice['released_clean'].replace({\n",
    "    'yes': 'Yes',\n",
    "    'y': 'Yes',\n",
    "    'released': 'Yes',\n",
    "    'no': 'No',\n",
    "    'n': 'No',\n",
    "    'not released': 'No',\n",
    "    'nan': np.nan,\n",
    "    '': np.nan,\n",
    "})\n",
    "\n",
    "justice['released_dummy'] = justice['released_clean'].map({'Yes': 1, 'No': 0})"
   ]
  },
  {
   "cell_type": "code",
   "execution_count": null,
   "id": "530627f0",
   "metadata": {},
   "outputs": [
    {
     "name": "stdout",
     "output_type": "stream",
     "text": [
      "Missing values: 9053 (39.38%)\n"
     ]
    }
   ],
   "source": [
    "# Number 4\n",
    "\n",
    "justice['ImposedSentenceAllChargeInContactEvent'].value_counts(dropna=False)\n",
    "justice['SentenceTypeAllChargesAtConvictionInContactEvent'].value_counts(dropna=False)\n",
    "\n",
    "justice['imposed_sentence_clean'] = pd.to_numeric(\n",
    "    justice['ImposedSentenceAllChargeInContactEvent'], errors='coerce'\n",
    ")\n",
    "\n",
    "missing_count = justice['imposed_sentence_clean'].isna().sum()\n",
    "total_count = len(justice)\n",
    "missing_prop = missing_count / total_count\n",
    "print(f\"Missing values: {missing_count} ({missing_prop:.2%})\")"
   ]
  },
  {
   "cell_type": "markdown",
   "id": "be95d13d",
   "metadata": {},
   "source": [
    "Number 4\n",
    "\n",
    "I cleaned the ImposedSentenceAllChargeInContactEvent variable by converting it to numeric and keeping missing values as np.nan. The missing values were not filled because they are informative. They mostly occur for cases with non-custodial sentences or dismissals, as confirmed by examining the SentenceTypeAllChargesAtConvictionInContactEvent variable. This ensures the data accurately represents both recorded sentences and absent sentences."
   ]
  },
  {
   "cell_type": "markdown",
   "id": "5a60a44e",
   "metadata": {},
   "source": [
    "**Q2.** Go to https://sharkattackfile.net/ and download their dataset on shark attacks (Hint: `GSAF5.xls`).\n",
    "\n",
    "1. Open the shark attack file using Pandas. It is probably not a csv file, so `read_csv` won't work.\n",
    "2. Drop any columns that do not contain data.\n",
    "3. Clean the year variable. Describe the range of values you see. Filter the rows to focus on attacks since 1940. Are attacks increasing, decreasing, or remaining constant over time?\n",
    "4. Clean the Age variable and make a histogram of the ages of the victims.\n",
    "5. What proportion of victims are male?\n",
    "6. Clean the `Type` variable so it only takes three values: Provoked and Unprovoked and Unknown. What proportion of attacks are unprovoked?\n",
    "7. Clean the `Fatal Y/N` variable so it only takes three values: Y, N, and Unknown.\n",
    "8. Are sharks more likely to launch unprovoked attacks on men or women? Is the attack more or less likely to be fatal when the attack is provoked or unprovoked? Is it more or less likely to be fatal when the victim is male or female? How do you feel about sharks?\n",
    "9. What proportion of attacks appear to be by white sharks? (Hint: `str.split()` makes a vector of text values into a list of lists, split by spaces.)"
   ]
  },
  {
   "cell_type": "code",
   "execution_count": 34,
   "id": "a3f03830",
   "metadata": {},
   "outputs": [],
   "source": [
    "# Number 1\n",
    "\n",
    "# Open the shark attack file\n",
    "df = pd.read_excel(\"./data/GSAF5.xls\")\n"
   ]
  },
  {
   "cell_type": "code",
   "execution_count": null,
   "id": "265595a4",
   "metadata": {},
   "outputs": [],
   "source": [
    "# Number 2\n",
    "\n",
    "# Drop any columns that do not contain data\n",
    "df = df.dropna(axis=1, how='all')"
   ]
  },
  {
   "cell_type": "code",
   "execution_count": null,
   "id": "a1d9a24d",
   "metadata": {},
   "outputs": [
    {
     "data": {
      "image/png": "[encoded data removed]",
      "text/plain": [
       "<Figure size 1000x500 with 1 Axes>"
      ]
     },
     "metadata": {},
     "output_type": "display_data"
    }
   ],
   "source": [
    "# Number 3\n",
    "\n",
    "import matplotlib.pyplot as plt\n",
    "\n",
    "# Convert Year to numeric\n",
    "df['Year'] = pd.to_numeric(df['Year'], errors='coerce')\n",
    "\n",
    "# Filter the rows to focus on attacks since 1940\n",
    "df_1940 = df[df['Year'] >= 1940]\n",
    "\n",
    "attacks_per_year = df_1940['Year'].value_counts().sort_index()\n",
    "\n",
    "# Graph\n",
    "plt.figure(figsize=(10,5))\n",
    "attacks_per_year.plot()\n",
    "plt.xlabel(\"Year\")\n",
    "plt.ylabel(\"Number of attacks\")\n",
    "plt.title(\"Shark attacks since 1940\")\n",
    "plt.show()"
   ]
  },
  {
   "cell_type": "markdown",
   "id": "8fe963e6",
   "metadata": {},
   "source": [
    "Number 3\n",
    "\n",
    "That values of shark attacks per year seem to vary greatly. Shark attacks seem to be increasing over time, but with COVID, it seems to have drastically dropped as beach attendance probably dropped with the pandemic."
   ]
  },
  {
   "cell_type": "code",
   "execution_count": 40,
   "id": "18ca6063",
   "metadata": {},
   "outputs": [
    {
     "data": {
      "image/png": "[encoded data removed]",
      "text/plain": [
       "<Figure size 800x500 with 1 Axes>"
      ]
     },
     "metadata": {},
     "output_type": "display_data"
    }
   ],
   "source": [
    "# Number 4\n",
    "\n",
    "# Remove non-numeric ages\n",
    "df['Age'] = pd.to_numeric(df['Age'], errors='coerce')\n",
    "\n",
    "# Drop missing ages\n",
    "ages = df['Age'].dropna()\n",
    "\n",
    "# Graph\n",
    "plt.figure(figsize=(8,5))\n",
    "plt.hist(ages, bins=20, edgecolor='black')\n",
    "plt.xlabel(\"Age\")\n",
    "plt.ylabel(\"Count\")\n",
    "plt.title(\"Graph of victim ages\")\n",
    "plt.show()"
   ]
  },
  {
   "cell_type": "code",
   "execution_count": 42,
   "id": "3e28fa10",
   "metadata": {},
   "outputs": [
    {
     "name": "stdout",
     "output_type": "stream",
     "text": [
      "Proportion of male victims: 80.20%\n"
     ]
    }
   ],
   "source": [
    "# Number 5\n",
    "\n",
    "# Standardize the Sex column\n",
    "df['Sex'] = df['Sex'].str.upper().replace({'M': 'M', 'F': 'F'})\n",
    "\n",
    "# Calculate proportion of males\n",
    "male_prop = (df['Sex'] == 'M').mean()\n",
    "print(f\"Proportion of male victims: {male_prop:.2%}\")"
   ]
  },
  {
   "cell_type": "code",
   "execution_count": 52,
   "id": "3f005203",
   "metadata": {},
   "outputs": [
    {
     "name": "stdout",
     "output_type": "stream",
     "text": [
      "\n",
      "Proportion of attacks that are unprovoked: 73.8%\n"
     ]
    }
   ],
   "source": [
    "# Number 6\n",
    "\n",
    "# Clean the Type variable so it only takes three values: Provoked and Unprovoked and Unknown.\n",
    "def clean_type(type_val):\n",
    "    if pd.isna(type_val):\n",
    "        return 'Unknown'\n",
    "    \n",
    "    type_str = str(type_val).upper().strip()\n",
    "    if 'UNPROVOKED' in type_str:\n",
    "        return 'Unprovoked'\n",
    "    elif 'PROVOKED' in type_str:\n",
    "        return 'Provoked'\n",
    "    else:\n",
    "        return 'Unknown'\n",
    "\n",
    "df['Type_Clean'] = df['Type'].apply(clean_type)\n",
    "type_counts = df['Type_Clean'].value_counts()\n",
    "\n",
    "# What proportion of attacks are unprovoked?\n",
    "print(f\"\\nProportion of attacks that are unprovoked: {type_counts.get('Unprovoked', 0) / len(df):.1%}\")"
   ]
  },
  {
   "cell_type": "code",
   "execution_count": 53,
   "id": "98c81b20",
   "metadata": {},
   "outputs": [],
   "source": [
    "# Number 7\n",
    "\n",
    "# Clean the Fatal Y/N variable so it only takes three values: Y, N, and Unknown.\n",
    "def clean_fatal(fatal_val):\n",
    "    if pd.isna(fatal_val):\n",
    "        return 'Unknown'\n",
    "    \n",
    "    fatal_str = str(fatal_val).upper().strip()\n",
    "    if fatal_str in ['Y', 'YES']:\n",
    "        return 'Y'\n",
    "    elif fatal_str in ['N', 'NO']:\n",
    "        return 'N'\n",
    "    else:\n",
    "        return 'Unknown'"
   ]
  },
  {
   "cell_type": "code",
   "execution_count": 60,
   "id": "6b344570",
   "metadata": {},
   "outputs": [
    {
     "name": "stdout",
     "output_type": "stream",
     "text": [
      "Proportion of unprovoked attacks by sex:\n",
      "Type  Unprovoked\n",
      "Sex             \n",
      " M      0.000199\n",
      "F       0.135415\n",
      "F       0.000398\n",
      "LLI     0.000199\n",
      "M       0.863193\n",
      "M       0.000597\n",
      "\n",
      "Fatality rate by attack type:\n",
      "Fatal Y/N                   N         F         M         N        N   \\\n",
      "Type                                                                    \n",
      " provoked            0.000000  0.000000  0.000000  0.500000  0.000000   \n",
      "?                    0.000000  0.000000  0.000000  1.000000  0.000000   \n",
      "Boat                 0.000000  0.000000  0.000000  1.000000  0.000000   \n",
      "Provoked             0.003155  0.000000  0.001577  0.958991  0.000000   \n",
      "Questionable         0.000000  0.083333  0.000000  0.583333  0.000000   \n",
      "Sea disaster         0.000000  0.000000  0.000000  0.281513  0.000000   \n",
      "Under investigation  0.000000  0.000000  0.000000  1.000000  0.000000   \n",
      "Unknown              0.000000  0.000000  0.000000  0.653846  0.000000   \n",
      "Unprovoked           0.000965  0.000579  0.000193  0.743436  0.000193   \n",
      "Unverified           0.000000  0.000000  0.000000  1.000000  0.000000   \n",
      "Watercraft           0.000000  0.000000  0.000000  0.943182  0.000000   \n",
      "\n",
      "Fatal Y/N                  NQ   Unknown         Y     Y X 2  \n",
      "Type                                                         \n",
      " provoked            0.000000  0.000000  0.500000  0.000000  \n",
      "?                    0.000000  0.000000  0.000000  0.000000  \n",
      "Boat                 0.000000  0.000000  0.000000  0.000000  \n",
      "Provoked             0.000000  0.004732  0.031546  0.000000  \n",
      "Questionable         0.000000  0.000000  0.333333  0.000000  \n",
      "Sea disaster         0.000000  0.004202  0.710084  0.004202  \n",
      "Under investigation  0.000000  0.000000  0.000000  0.000000  \n",
      "Unknown              0.000000  0.038462  0.307692  0.000000  \n",
      "Unprovoked           0.000193  0.011004  0.243436  0.000000  \n",
      "Unverified           0.000000  0.000000  0.000000  0.000000  \n",
      "Watercraft           0.000000  0.025568  0.031250  0.000000  \n",
      "\n",
      "Fatality rate by sex:\n",
      "Fatal Y/N         N         F         M         N        NQ   Unknown  \\\n",
      "Sex                                                                     \n",
      " M         0.000000  0.000000  0.000000  1.000000  0.000000  0.000000   \n",
      ".          0.000000  0.000000  0.000000  0.000000  0.000000  0.000000   \n",
      "F          0.001353  0.000000  0.000000  0.826793  0.001353  0.005413   \n",
      "F          0.000000  0.000000  0.000000  1.000000  0.000000  0.000000   \n",
      "LLI        0.000000  0.000000  0.000000  1.000000  0.000000  0.000000   \n",
      "M          0.001147  0.000956  0.000573  0.751529  0.000000  0.006881   \n",
      "M          0.000000  0.000000  0.000000  0.666667  0.000000  0.000000   \n",
      "M X 2      0.000000  0.000000  0.000000  0.000000  0.000000  0.000000   \n",
      "N          0.000000  0.000000  0.000000  0.500000  0.000000  0.000000   \n",
      "\n",
      "Fatal Y/N         Y  Y X 2  \n",
      "Sex                         \n",
      " M         0.000000    0.0  \n",
      ".          1.000000    0.0  \n",
      "F          0.165088    0.0  \n",
      "F          0.000000    0.0  \n",
      "LLI        0.000000    0.0  \n",
      "M          0.238914    0.0  \n",
      "M          0.333333    0.0  \n",
      "M X 2      0.000000    1.0  \n",
      "N          0.500000    0.0  \n"
     ]
    }
   ],
   "source": [
    "# Number 8\n",
    "\n",
    "# Are sharks more likely to attack men or women unprovoked?\n",
    "unprovoked = df[df['Type'] == 'Unprovoked']\n",
    "ct_sex = pd.crosstab(unprovoked['Sex'], unprovoked['Type'], normalize='columns')\n",
    "print(\"Proportion of unprovoked attacks by sex:\")\n",
    "print(ct_sex)\n",
    "\n",
    "# Fatality by attack type\n",
    "ct_fatal_type = pd.crosstab(df['Type'], df['Fatal Y/N'], normalize='index')\n",
    "print(\"\\nFatality rate by attack type:\")\n",
    "print(ct_fatal_type)\n",
    "\n",
    "# Fatality by sex\n",
    "ct_fatal_sex = pd.crosstab(df['Sex'], df['Fatal Y/N'], normalize='index')\n",
    "print(\"\\nFatality rate by sex:\")\n",
    "print(ct_fatal_sex)"
   ]
  },
  {
   "cell_type": "markdown",
   "id": "7d04dc9a",
   "metadata": {},
   "source": [
    "Number 8\n",
    "\n",
    "Sharks more likely to launch unprovoked attacks on men. Provoked attacks are slightly more likely to be fatal than unprovoked attacks, but both are relatively low. Fatality rates are roughly equal for men and women, maybe slightly higher for women, but the difference is very small. I like sharks!"
   ]
  },
  {
   "cell_type": "code",
   "execution_count": 63,
   "id": "f9d3c9dc",
   "metadata": {},
   "outputs": [
    {
     "name": "stdout",
     "output_type": "stream",
     "text": [
      "Proportion of attacks by white sharks: 10.68%\n"
     ]
    }
   ],
   "source": [
    "# Number 9\n",
    "\n",
    "df['Species '] = df['Species '].str.upper().fillna('UNKNOWN')\n",
    "\n",
    "white_shark_attacks = df['Species '].str.contains('WHITE', na=False).mean()\n",
    "print(f\"Proportion of attacks by white sharks: {white_shark_attacks:.2%}\")"
   ]
  },
  {
   "cell_type": "code",
   "execution_count": null,
   "id": "c52e97e9",
   "metadata": {},
   "outputs": [],
   "source": []
  }
 ],
 "metadata": {
  "colab": {
   "provenance": []
  },
  "kernelspec": {
   "display_name": "Python 3",
   "language": "python",
   "name": "python3"
  },
  "language_info": {
   "codemirror_mode": {
    "name": "ipython",
    "version": 3
   },
   "file_extension": ".py",
   "mimetype": "text/x-python",
   "name": "python",
   "nbconvert_exporter": "python",
   "pygments_lexer": "ipython3",
   "version": "3.10.6"
  }
 },
 "nbformat": 4,
 "nbformat_minor": 5
}
